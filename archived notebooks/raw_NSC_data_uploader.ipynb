{
 "cells": [
  {
   "cell_type": "code",
   "execution_count": null,
   "id": "693e4cf2",
   "metadata": {},
   "outputs": [],
   "source": [
    "from spswarehouse.warehouse import Warehouse\n",
    "from spswarehouse.googledrive import GoogleDrive\n",
    "from spswarehouse.table_utils import *"
   ]
  },
  {
   "cell_type": "code",
   "execution_count": null,
   "id": "47de0726",
   "metadata": {},
   "outputs": [],
   "source": [
    "schema = 'national_student_clearinghouse'\n",
    "\n",
    "Warehouse.execute(\"USE ROLE dataops\")\n"
   ]
  },
  {
   "cell_type": "code",
   "execution_count": null,
   "id": "752a3795",
   "metadata": {},
   "outputs": [],
   "source": [
    "# Print the list of files and verify which files to upload\n",
    "\n",
    "folder_id = '1bwXsNl5LEG6p_BvgSVFeicsUQuBUzeQp'\n",
    "# https://drive.google.com/drive/folders/1bwXsNl5LEG6p_BvgSVFeicsUQuBUzeQp -- Apr 2023\n",
    "# https://drive.google.com/drive/u/0/folders/10_CUbhueKy--y5BAAU53iDpDkHUVOlOJ -- Dec 2022\n",
    "# https://drive.google.com/drive/u/0/folders/1sAWtBci-mcMP6Cyvbyl0PcXiIQs8-rVl -- Aug 2022. \n",
    "# https://drive.google.com/drive/u/0/folders/1E_-2ElbTg9yDUvcT4Pb0q7Cl1M1lIXwM -- April 2022\n",
    "# https://drive.google.com/drive/u/0/folders/1-7aLGUHpb_MS51n8zEHEr7t-_jcU-3Nv -- April 2021 \n",
    "# https://drive.google.com/drive/folders/1Rf9bBCvsNcxNN7G4hfCtbInEdBZ0_I0w -- Sept 2020 \n",
    "\n",
    "# https://drive.google.com/drive/u/0/folders/13ulZzNCwarQ-omLcModLUekOjTLslANo -- some of the earlier files (not all)\n",
    "\n",
    "file_list = GoogleDrive.ListFile({'q': f\"'{folder_id}' in parents\"}).GetList()\n",
    "for file in file_list:\n",
    "    print(f\"title: {file['title']}, id: {file['id']}\")\n",
    "\n",
    "# this is the id for the \"detail file\", which needs to be linked to other student \n",
    "# info to create school specific files 1HHq7pwNxf3IANLdTLvYAKSMKPAIqn9eBI3whS8BBUPo\n",
    "     "
   ]
  },
  {
   "cell_type": "code",
   "execution_count": null,
   "id": "0cce9cc1",
   "metadata": {},
   "outputs": [],
   "source": [
    "# print the file list as tuples for easy copy and paste\n",
    "for file in file_list:\n",
    "    print(f\"('raw_data_', '{file['id']}'),\")"
   ]
  },
  {
   "cell_type": "code",
   "execution_count": null,
   "id": "684ea359",
   "metadata": {},
   "outputs": [],
   "source": [
    "# Find the raw data file (should be the .csv that starts with 10055266hsst) and copy it's id here\n",
    "# Copy the tuple list, and then edit the first item of the tuple to be the table name.\n",
    "# Commented out tables are already loaded\n",
    "table_list = [ \n",
    "    ('raw_data_2023_04_27', '1Us_DV-dTUpeuuFTxgZXZ0kKHEh9TKm_1')\n",
    "#     ('raw_data_2020_09_18', '1XrU0A4Z8EdXLiR-UlcCrna71aws9I55I'),\n",
    "#     ('raw_data_2022_04_21', '1qL0yNS3-k6HDaNx2ju5bW9xdVbBMMxuV'),\n",
    "#     ('raw_data_2022_08_30', '15-Z8r_gJ49anjL3XmWTTphBLWLSUBpTL'),\n",
    "#     ('raw_data_2021_04_16', '1-IF09wCju25j6HK88uN7uWl-_Xs13ctE'),\n",
    "#     ('naviance_prep_2015', '15RCqZywaMHvXKgHh_YhTRciYPsod3WIQ'),\n",
    "#     ('raw_data_2020_04_22', '1475i8HbMw6kCFL1WGM5nSMExJuwwbNO0'),\n",
    "#     ('raw_data_2019_11_25', '149GeT55YS7pUvGAlxv8pftEyOBiE7ILw'),\n",
    "#     ('raw_data_2019_08_17', '14882gWfxMJdx95zkB9N5i5JUOeYx9it-'),\n",
    "#     ('raw_data_2019_04_15', '14C-3K5cL5r4RsU1X6eefQXGiPxNL4cZt'),\n",
    "#     ('raw_data_2018_11_28', '149U1UqiQ6HsyDfjsO1PrI3qD68Z1PqvS'),\n",
    "#     ('naviance_no_prep_2018_05', '14FoWbzIa9a_OiZKde1mlEF4WyNPcjRGI'),\n",
    "#     ('naviance_shasta_2017_12', '14O48NafjtrD3Nvxh98goCnlhM4pC2Gy8'),\n",
    "#     ('naviance_rainier_2017_12', '14LL3visn0Av9TeYZakrc7souJcraU0M3'),\n",
    "#     ('naviance_tahoma_2017_12', '14_QO7XNyJTE1RN8EYM_KjA9WZjVRhcZ8'),\n",
    "#     ('naviance_prep_2017_12', '14i1i4pUMyH2PovH5tLujy6wLvG5b0Que'),\n",
    "#     ('naviance_everest_2017_12', '14MmWVLvM2E0kBfaEMd_3YHn9ix6NWlwJ'),\n",
    "#     ('naviance_tahoma_2017_04', '15W5lTw9Ox1BPmEkHcKYd3uC5UWuUcZ0p'),\n",
    "#     ('naviance_rainier_2017_04', '15RB_VOS2gsXzyidCpu-jM-clWVYjBAwV'),\n",
    "#     ('naviance_prep_2017_04', '14nmtF09aM76M2pASvlrxGw8mUD7COC9Q'),\n",
    "#     ('naviance_everest_2017_04', '14s5ZmhgKban0TBQ_GGeSH5ReZJj_uxix'),\n",
    "#     ('naviance_prep_2016_10', '14zw36h42M9Xn0lg6U11yFSoHnBacD6bp'),\n",
    "#     ('naviance_everest_2016_10', '15Kd8dCE9jKqD9aVzTDRzDK14CQdk0YpZ'),\n",
    "#     ('naviance_tahoma_2016_09', '15_RI45zQo-y27Mr1vBBD_t7wHN1dWqpJ'),\n",
    "#     ('naviance_rainier_2016_09', '15aZrvtmWvK4m4H_hp6WaJzdiKxcC_SmF'),\n",
    "#     ('naviance_everest_2016_09', '15S4SD194fnx-ZqRzLGrALG9PYZfvT7cn'),\n",
    "#     ('naviance_tahoma_2015_12_01', '0B61jdQ3zkvtyUC1iOEUyNmdqQXc'),\n",
    "#     ('naviance_rainier_2015_12_01', '0B61jdQ3zkvtyRXFFcnNIUXRCQ28'),\n",
    "#     ('naviance_prep_2015_12_01', '0B61jdQ3zkvtyVHFJTGVQUkFzRFU'),\n",
    "#     ('naviance_everest_2015_12_01', '0B61jdQ3zkvtyZ3czU0gxMlVYOHM'),\n",
    "]\n",
    " "
   ]
  },
  {
   "cell_type": "code",
   "execution_count": null,
   "id": "946de3d6",
   "metadata": {},
   "outputs": [],
   "source": [
    "for table_tuple in table_list:\n",
    "    table = table_tuple[0]\n",
    "    file_id = table_tuple[1]\n",
    "    \n",
    "    print(table)\n",
    "    print(file_id)"
   ]
  },
  {
   "cell_type": "code",
   "execution_count": null,
   "id": "95874a47",
   "metadata": {},
   "outputs": [],
   "source": [
    "create_sql = create_table_stmt(table, schema, google_drive_id=file_id, force_string=True, encoding='latin-1')\n"
   ]
  },
  {
   "cell_type": "code",
   "execution_count": null,
   "id": "3e1d3b69",
   "metadata": {},
   "outputs": [],
   "source": [
    "Warehouse.execute(create_sql)\n"
   ]
  },
  {
   "cell_type": "code",
   "execution_count": null,
   "id": "c9f97648",
   "metadata": {},
   "outputs": [],
   "source": [
    "table_reflect = Warehouse.reflect(table, schema)\n",
    "\n",
    "upload_to_warehouse(table_reflect, google_drive_id=file_id, force_string=True, encoding= 'latin-1', batch_size=2000)\n"
   ]
  },
  {
   "cell_type": "code",
   "execution_count": null,
   "id": "b7c85d33",
   "metadata": {},
   "outputs": [],
   "source": []
  }
 ],
 "metadata": {
  "kernelspec": {
   "display_name": "Python 3 (ipykernel)",
   "language": "python",
   "name": "python3"
  },
  "language_info": {
   "codemirror_mode": {
    "name": "ipython",
    "version": 3
   },
   "file_extension": ".py",
   "mimetype": "text/x-python",
   "name": "python",
   "nbconvert_exporter": "python",
   "pygments_lexer": "ipython3",
   "version": "3.9.13"
  }
 },
 "nbformat": 4,
 "nbformat_minor": 5
}
