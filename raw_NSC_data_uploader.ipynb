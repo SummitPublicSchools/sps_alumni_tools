{
 "cells": [
  {
   "cell_type": "code",
   "execution_count": 1,
   "id": "693e4cf2",
   "metadata": {},
   "outputs": [
    {
     "name": "stdout",
     "output_type": "stream",
     "text": [
      "To access your Google Drive file, share the file with jupyter-sheets@sps-warehouse.iam.gserviceaccount.com\n"
     ]
    }
   ],
   "source": [
    "from spswarehouse.warehouse import Warehouse\n",
    "from spswarehouse.googledrive import GoogleDrive\n",
    "from spswarehouse.table_utils import *"
   ]
  },
  {
   "cell_type": "code",
   "execution_count": 2,
   "id": "47de0726",
   "metadata": {},
   "outputs": [
    {
     "data": {
      "text/plain": [
       "(<sqlalchemy.engine.base.Connection at 0x2076ecd80d0>,\n",
       " <sqlalchemy.engine.cursor.LegacyCursorResult at 0x2076ffc1cd0>)"
      ]
     },
     "execution_count": 2,
     "metadata": {},
     "output_type": "execute_result"
    }
   ],
   "source": [
    "schema = 'national_student_clearinghouse'\n",
    "\n",
    "Warehouse.execute(\"USE ROLE ANALYTICS\")\n"
   ]
  },
  {
   "cell_type": "code",
   "execution_count": 3,
   "id": "752a3795",
   "metadata": {},
   "outputs": [
    {
     "name": "stdout",
     "output_type": "stream",
     "text": [
      "title: 10055266hsst_10055266-136267-DETAIL-EFFDT-20210416-RUNDT-20210426.csv, id: 1-IF09wCju25j6HK88uN7uWl-_Xs13ctE\n",
      "title: 10055266hsst_10055266-136267-DETAIL-EFFDT-20210416-RUNDT-20210426, id: 1irFhm_XtKx7mIYzWXEenvbwtaf1UZBVQGOAf5POJtlU\n",
      "title: 10055266hsst_10055266-136267-DETAIL-EFFDT-20210416-RUNDT-20210426, id: 1HHq7pwNxf3IANLdTLvYAKSMKPAIqn9eBI3whS8BBUPo\n",
      "title: 10055266hsst_10055266-136267-DETAIL-EFFDT-20210416-RUNDT-20210426, id: 1_sCtswJZAbDRw4mhdN3rImikxxNy65-XPidgrSuxZYs\n",
      "title: 10055266hsst_10055266_HS053878_136267_TOP25_INSTITUTIONS_BYHSCLASS_PACKET_EFFDT_20210416_RUNDT_20210426082427896.pdf, id: 10fOPXJAe2VKODnU8DOApgBqWr7PAIKuj\n",
      "title: 10055266hsst_10055266_HS053878_136267_DEMOGRAPHICS_PACKET_EFFDT_20210416_RUNDT_20210426082427752.pdf, id: 1116ustUVHozYmbhmna-4mhNcebbLvNXr\n",
      "title: 10055266hsst_10055266_HS053878_136267_BASIC_EFFDT_20210416_RUNDT_20210426082427536.pdf, id: 11A8Nj0NSNjzReHNGBgQYPfK2GeU8jZKc\n",
      "title: 10055266hsst_10055266_EFFDT_20210416_RUNDT_20210426082419288.zip, id: 1-9TqWa8I01iMl853enA84V44AWbgRib2\n",
      "title: 10055266hsst_10055266_HS052215_136267_TOP25_INSTITUTIONS_BYHSCLASS_PACKET_EFFDT_20210416_RUNDT_20210426082453198.xls, id: 11V_sK8psFGPU8y61nCWd4GfEXAC55v3i\n",
      "title: 10055266hsst_10055266_HS052215_136267_ACADEMICS_PACKET_EFFDT_20210416_RUNDT_20210426082454727.xls, id: 1-pPZc2g1w-_pS1pAvbx_BfaMEiD_9ztX\n",
      "title: 10055266hsst_10055266_HS052215_136267_ACADEMICS_PACKET_EFFDT_20210416_RUNDT_20210426082454659.pdf, id: 1-tmecbT86dic4ocImFAJn7sVR1NGsuvF\n",
      "title: 10055266hsst_10055266_HS052215_136267_TOP25_INSTITUTIONS_BYHSCLASS_PACKET_EFFDT_20210416_RUNDT_20210426082451720.pdf, id: 11cWKJAHRR-tgm_EwLVP5OSIjIxGvXDK5\n",
      "title: 10055266hsst_10055266_HS052215_136267_BASIC_EFFDT_20210416_RUNDT_20210426082451437.pdf, id: 1-jqxV_TfO4vgb0A_i1XZ6ZipLEsXBXLJ\n",
      "title: 10055266hsst_10055266_HS050051_136267_TOP25_INSTITUTIONS_BYHSCLASS_PACKET_EFFDT_20210416_RUNDT_20210426082448738.pdf, id: 1-zgqPXRHSvzyEGx3d-VzvV1JkrNVgjYh\n",
      "title: 10055266hsst_10055266_HS052215_136267_BASIC_EFFDT_20210416_RUNDT_20210426082451594.xls, id: 11kXK-_LTJMsIgrQZaQOJ29RCUvBkYBuE\n",
      "title: 10055266hsst_10055266_HS050051_136267_ACADEMICS_PACKET_EFFDT_20210416_RUNDT_20210426082451412.xls, id: 10IQjo2Kx0WgehiF3KUGNstPODkmzoIuB\n",
      "title: 10055266hsst_10055266_HS052215_136267_DEMOGRAPHICS_PACKET_EFFDT_20210416_RUNDT_20210426082451673.xls, id: 11gioVBzda8Vm9ZWBMNy8osDxnvDtneQU\n",
      "title: 10055266hsst_10055266_HS050051_136267_TOP25_INSTITUTIONS_BYHSCLASS_PACKET_EFFDT_20210416_RUNDT_20210426082450058.xls, id: 1-yi0yTZWp1EVn9F3_3vBuacWc9eg2BKK\n",
      "title: 10055266hsst_10055266_HS050051_136267_ACADEMICS_PACKET_EFFDT_20210416_RUNDT_20210426082451335.pdf, id: 10KrHBQn4jNNBjvOQn3MVDNjqz4DgM1em\n",
      "title: 10055266hsst_10055266_HS052215_136267_DEMOGRAPHICS_PACKET_EFFDT_20210416_RUNDT_20210426082451627.pdf, id: 11jDmlwRucFGT4RbrsSqklDph5cf0dWff\n",
      "title: 10055266hsst_10055266_HS054620_136267_ACADEMICS_PACKET_EFFDT_20210416_RUNDT_20210426082448351.pdf, id: 12UyRPgXYO9WnnjWZbS0oCjvIcLEQCX4G\n",
      "title: 10055266hsst_10055266_HS050051_136267_BASIC_EFFDT_20210416_RUNDT_20210426082448428.pdf, id: 10H-L85PeJasmvUJy3AWL41N19dnjOntG\n",
      "title: 10055266hsst_10055266_HS050051_136267_DEMOGRAPHICS_PACKET_EFFDT_20210416_RUNDT_20210426082448649.pdf, id: 101HWyKZiD6ulPnL1sQlJXi-jaPdBoTCR\n",
      "title: 10055266hsst_10055266_HS054620_136267_ACADEMICS_PACKET_EFFDT_20210416_RUNDT_20210426082448396.xls, id: 12UnbxjOvAC826kAK2ryF0gyPiWpc-PgB\n",
      "title: 10055266hsst_10055266_HS054620_136267_TOP25_INSTITUTIONS_BYHSCLASS_PACKET_EFFDT_20210416_RUNDT_20210426082446870.xls, id: 11x1gU6KTZa4Lv7G0XW_zVK3YMIgljmh2\n",
      "title: 10055266hsst_10055266_HS050051_136267_BASIC_EFFDT_20210416_RUNDT_20210426082448615.xls, id: 103LWXKA0O9YuVj23-rQ7cylmAphWWzQp\n",
      "title: 10055266hsst_10055266_HS050051_136267_DEMOGRAPHICS_PACKET_EFFDT_20210416_RUNDT_20210426082448698.xls, id: 10-fSiJbiN_vHQbcpLBqQAlkY19hTzpxF\n",
      "title: 10055266hsst_10055266_HS054620_136267_TOP25_INSTITUTIONS_BYHSCLASS_PACKET_EFFDT_20210416_RUNDT_20210426082445168.pdf, id: 11z7fXQjtZU8RukeAvL-ERfReRFvuamFp\n",
      "title: 10055266hsst_10055266_HS054620_136267_DEMOGRAPHICS_PACKET_EFFDT_20210416_RUNDT_20210426082445107.pdf, id: 127VYEMANpAe0fDopwd9to11DnkOtXpav\n",
      "title: 10055266hsst_10055266_HS480008_136267_ACADEMICS_PACKET_EFFDT_20210416_RUNDT_20210426082445024.pdf, id: 14r6bxqPWXDe5UYiOjde30GHUwMiR0lzx\n",
      "title: 10055266hsst_10055266_HS054620_136267_BASIC_EFFDT_20210416_RUNDT_20210426082445099.xls, id: 12J0TkAb2gKvYZMGBqCwpbV1HRsHRqiu5\n",
      "title: 10055266hsst_10055266_HS480008_136267_TOP25_INSTITUTIONS_BYHSCLASS_PACKET_EFFDT_20210416_RUNDT_20210426082443488.xls, id: 14YMXEgUCUMU0p8_ulgaWGL6EPZO_KltD\n",
      "title: 10055266hsst_10055266_HS054620_136267_BASIC_EFFDT_20210416_RUNDT_20210426082445035.pdf, id: 12TVdpXuGyAPmfzIvqGeANhIobv-C3I4g\n",
      "title: 10055266hsst_10055266_HS480008_136267_ACADEMICS_PACKET_EFFDT_20210416_RUNDT_20210426082445032.xls, id: 14onBsoZcJhfcn368FiMXoWmJc4cgRjna\n",
      "title: 10055266hsst_10055266_HS054620_136267_DEMOGRAPHICS_PACKET_EFFDT_20210416_RUNDT_20210426082445147.xls, id: 125Ftx8OBqmFmB-T61uHldzMI9YwUmAEp\n",
      "title: 10055266hsst_10055266_HS480008_136267_TOP25_INSTITUTIONS_BYHSCLASS_PACKET_EFFDT_20210416_RUNDT_20210426082441871.pdf, id: 14ZJXGsPQCGGNgEWrmFPEnbU-X4Y_xGeG\n",
      "title: 10055266hsst_10055266_HS480008_136267_BASIC_EFFDT_20210416_RUNDT_20210426082441788.pdf, id: 14lLvYFuaEwvs96JOjsEBzA-k5eM3ZEUt\n",
      "title: 10055266hsst_10055266_HS480008_136267_DEMOGRAPHICS_PACKET_EFFDT_20210416_RUNDT_20210426082441839.pdf, id: 14fAPpg-SHBsUm3mJsqyarvePhCZBKs5r\n",
      "title: 10055266hsst_10055266_HS054815_136267_ACADEMICS_PACKET_EFFDT_20210416_RUNDT_20210426082441782.xls, id: 13NLrcLD5zg4CUd7V_0TAMIUWjwo_g9RX\n",
      "title: 10055266hsst_10055266_HS480008_136267_BASIC_EFFDT_20210416_RUNDT_20210426082441831.xls, id: 14jUM9avw18NG2a6IWxD34oDiDDKr0i4j\n",
      "title: 10055266hsst_10055266_HS480008_136267_DEMOGRAPHICS_PACKET_EFFDT_20210416_RUNDT_20210426082441862.xls, id: 14bdrm2VNQ1uT0mr7dcsGc-BMM5D0TG9l\n",
      "title: 10055266hsst_10055266_HS054815_136267_TOP25_INSTITUTIONS_BYHSCLASS_PACKET_EFFDT_20210416_RUNDT_20210426082440471.xls, id: 12sBvdQ6AaGPtRSTtNl03-0rP5AgsJiTA\n",
      "title: 10055266hsst_10055266_HS054815_136267_ACADEMICS_PACKET_EFFDT_20210416_RUNDT_20210426082441773.pdf, id: 13OGJPRt4jtuHHz4ueF5F-XgtN9YOnOk1\n",
      "title: 10055266hsst_10055266_HS054815_136267_TOP25_INSTITUTIONS_BYHSCLASS_PACKET_EFFDT_20210416_RUNDT_20210426082438774.pdf, id: 12tz_gS7inUUISSqkQRWFUL_Bz3NXPKVF\n",
      "title: 10055266hsst_10055266_HS054621_136267_ACADEMICS_PACKET_EFFDT_20210416_RUNDT_20210426082438141.pdf, id: 11rXBuMQsbBqm6B9y0vtbc3x9KV3Pqu6k\n",
      "title: 10055266hsst_10055266_HS054815_136267_BASIC_EFFDT_20210416_RUNDT_20210426082438216.pdf, id: 13G99iYh5Q0vYFOzpK2Bu2nx-30ej2LXY\n",
      "title: 10055266hsst_10055266_HS054815_136267_DEMOGRAPHICS_PACKET_EFFDT_20210416_RUNDT_20210426082438731.xls, id: 133Zfs9tV3G5hya_2LheBD8vv2CDYb7ek\n",
      "title: 10055266hsst_10055266_HS054621_136267_ACADEMICS_PACKET_EFFDT_20210416_RUNDT_20210426082438193.xls, id: 1429zFblDL3yaphp4AWQgzxz-BCehJoG_\n",
      "title: 10055266hsst_10055266_HS054815_136267_BASIC_EFFDT_20210416_RUNDT_20210426082438571.xls, id: 13AB4TzlpL3I98GzvG6Z3REuG5m6MAW7k\n",
      "title: 10055266hsst_10055266_HS054621_136267_TOP25_INSTITUTIONS_BYHSCLASS_PACKET_EFFDT_20210416_RUNDT_20210426082436721.xls, id: 13OGTAx1DOfgvvxNaReWKIWD_8MIWQ0mI\n",
      "title: 10055266hsst_10055266_HS054815_136267_DEMOGRAPHICS_PACKET_EFFDT_20210416_RUNDT_20210426082438623.pdf, id: 137s2PV7NLDcKPeZSTCps8E4PTGupmqJp\n",
      "title: 10055266hsst_10055266_HS054621_136267_TOP25_INSTITUTIONS_BYHSCLASS_PACKET_EFFDT_20210416_RUNDT_20210426082434936.pdf, id: 13RVpQ92WfzF3p-WF9_18cYylRzz2zAov\n",
      "title: 10055266hsst_10055266_HS480018_136267_ACADEMICS_PACKET_EFFDT_20210416_RUNDT_20210426082434543.pdf, id: 14Ok9ppN_Is_l8H1p-sfoNHEqJVH_MGdq\n",
      "title: 10055266hsst_10055266_HS054621_136267_DEMOGRAPHICS_PACKET_EFFDT_20210416_RUNDT_20210426082434894.xls, id: 13V2tfABVKeLySDQlpjJRrUbMOlE5sghj\n",
      "title: 10055266hsst_10055266_HS480018_136267_TOP25_INSTITUTIONS_BYHSCLASS_PACKET_EFFDT_20210416_RUNDT_20210426082433202.xls, id: 143ezD26U7AAK0WXun0y9HLsVfEuztGPm\n",
      "title: 10055266hsst_10055266_HS480018_136267_ACADEMICS_PACKET_EFFDT_20210416_RUNDT_20210426082434580.xls, id: 14FKhxbRAFWE0dFE_Q6ReJ-SuODAZxTnc\n",
      "title: 10055266hsst_10055266_HS054621_136267_BASIC_EFFDT_20210416_RUNDT_20210426082434618.pdf, id: 13xKGkqxK2ZuPB-mMfBUS81qjWsLP2RUG\n",
      "title: 10055266hsst_10055266_HS054621_136267_BASIC_EFFDT_20210416_RUNDT_20210426082434793.xls, id: 13YsNeZL-S8rV-kHtYMzdRS6XBoETzWoC\n",
      "title: 10055266hsst_10055266_HS054621_136267_DEMOGRAPHICS_PACKET_EFFDT_20210416_RUNDT_20210426082434824.pdf, id: 13WWQrXhfEA67aL8S_bkgfSgtV0LPN4Mv\n",
      "title: 10055266hsst_10055266_HS480018_136267_TOP25_INSTITUTIONS_BYHSCLASS_PACKET_EFFDT_20210416_RUNDT_20210426082431541.pdf, id: 144VLRAgzBSYIwSxgGW1aRPs7g1glwpRP\n",
      "title: 10055266hsst_10055266_HS480018_136267_BASIC_EFFDT_20210416_RUNDT_20210426082431225.pdf, id: 14F0zQwzj3qZ9WXvuKVCDK4u7_V6S3qzi\n",
      "title: 10055266hsst_10055266_HS053878_136267_ACADEMICS_PACKET_EFFDT_20210416_RUNDT_20210426082431137.pdf, id: 11RviLc7CsBULarUJKF25f85Fs3CIEULD\n",
      "title: 10055266hsst_10055266_HS480018_136267_DEMOGRAPHICS_PACKET_EFFDT_20210416_RUNDT_20210426082431430.pdf, id: 146FIvTYkb_nAE9FiKEXeckRG5X5YJFEd\n",
      "title: 10055266hsst_10055266_HS053878_136267_ACADEMICS_PACKET_EFFDT_20210416_RUNDT_20210426082431188.xls, id: 11DBEhfLOiZfWqwmPIoyb3CA5d2Mn7Dnq\n",
      "title: 10055266hsst_10055266_HS480018_136267_DEMOGRAPHICS_PACKET_EFFDT_20210416_RUNDT_20210426082431478.xls, id: 145xKyIWp5KKY8wl7vfu0FXDWSv5PUuob\n",
      "title: 10055266hsst_10055266_HS480018_136267_BASIC_EFFDT_20210416_RUNDT_20210426082431373.xls, id: 14AeRT5B_Tk9veTpYbswGesb-htStkhcD\n",
      "title: 10055266hsst_10055266_HS053878_136267_TOP25_INSTITUTIONS_BYHSCLASS_PACKET_EFFDT_20210416_RUNDT_20210426082429533.xls, id: 10e6c4SZswFADrtHIulLytg7PYENjzXMg\n",
      "title: 10055266hsst_10055266_HS054429_136267_ACADEMICS_PACKET_EFFDT_20210416_RUNDT_20210426082427444.pdf, id: 10cJs44sjOLRNhYyDZQigyhD2LrqFa7N3\n",
      "title: 10055266hsst_10055266_HS054429_136267_TOP25_INSTITUTIONS_BYHSCLASS_PACKET_EFFDT_20210416_RUNDT_20210426082426040.xls, id: 12WxPE9q_QL-jRC0mXuQOyWOjb_wY9qlT\n",
      "title: 10055266hsst_10055266_HS054429_136267_ACADEMICS_PACKET_EFFDT_20210416_RUNDT_20210426082427517.xls, id: 10bTjuAO29C2_BpKwXZiDFHXffJNM1bTE\n",
      "title: 10055266hsst_10055266_HS054429_136267_TOP25_INSTITUTIONS_BYHSCLASS_PACKET_EFFDT_20210416_RUNDT_20210426082424111.pdf, id: 12Z1T5RKRVlGzmT8i28l7Di0Z4KNNShyG\n",
      "title: 10055266hsst_10055266_HS053878_136267_BASIC_EFFDT_20210416_RUNDT_20210426082427721.xls, id: 115h39TSBNO_iiFNyEQjoVxOty-XKFJtm\n",
      "title: 10055266hsst_10055266_HS053878_136267_DEMOGRAPHICS_PACKET_EFFDT_20210416_RUNDT_20210426082427858.xls, id: 10oHtDgcMGRJoBpst5EO_rVudWsVT0DR0\n",
      "title: 10055266hsst_10055266_HS054429_136267_DEMOGRAPHICS_PACKET_EFFDT_20210416_RUNDT_20210426082423993.pdf, id: 12k-1E827TIU002yqj4qvJLHV2rMPab9t\n",
      "title: 10055266hsst_10055266_HS054429_136267_DEMOGRAPHICS_PACKET_EFFDT_20210416_RUNDT_20210426082424063.xls, id: 12_8R22do0V2Xt4b2Vu_uSE6s_RLs1gsH\n",
      "title: 10055266hsst_10055266_10055266_136267_ACADEMICS_PACKET_EFFDT_20210416_RUNDT_20210426082423857.xls, id: 142fJgrT5wqM3x5ejroGNR1vI3pJVQjm6\n",
      "title: 10055266hsst_10055266_HS054429_136267_BASIC_EFFDT_20210416_RUNDT_20210426082423982.xls, id: 12nf9oyjCM2W2zpaLcQA1jHIFdvgeviV9\n",
      "title: 10055266hsst_10055266_HS054429_136267_BASIC_EFFDT_20210416_RUNDT_20210426082423872.pdf, id: 12qn56HLSydOnJ59X1tYGxmua7Ki4P9Bs\n",
      "title: 10055266hsst_10055266_10055266_136267_TOP25_INSTITUTIONS_BYHSCLASS_PACKET_EFFDT_20210416_RUNDT_20210426082421981.xls, id: 10NotilnwUlqM1ijAYk0SiOO4yvtww5B1\n",
      "title: 10055266hsst_10055266_10055266_136267_ACADEMICS_PACKET_EFFDT_20210416_RUNDT_20210426082423827.pdf, id: 143RuEIWWeTdXzXq8wrH2cAtPeD2bbzje\n",
      "title: 10055266hsst_10055266_10055266_136267_TOP25_INSTITUTIONS_BYHSCLASS_PACKET_EFFDT_20210416_RUNDT_20210426082419820.pdf, id: 10R1rb7EHqKXiM6MnaDSEVMEouYNnzrg5\n",
      "title: 10055266hsst_10055266_10055266_136267_BASIC_EFFDT_20210416_RUNDT_20210426082419297.pdf, id: 1-X5WcJExTLYTL5KaYv-Zfr0z0kvEL-nq\n",
      "title: 10055266hsst_10055266_10055266_136267_DEMOGRAPHICS_PACKET_EFFDT_20210416_RUNDT_20210426082419781.xls, id: 10X1iFp5whQ9oZtBetunw8bzVDcc1JqTF\n",
      "title: 10055266hsst_10055266_10055266_136267_DEMOGRAPHICS_PACKET_EFFDT_20210416_RUNDT_20210426082419661.pdf, id: 10aK5CwOvHUCboXvdWRlekDyN0B3qXyid\n",
      "title: 10055266hsst_10055266_10055266_136267_BASIC_EFFDT_20210416_RUNDT_20210426082419622.xls, id: 1-_JBVonNVOVXzVu1lSUWbSjhngSoKsNA\n"
     ]
    }
   ],
   "source": [
    "# Print the list of files and verify which files to upload\n",
    "\n",
    "folder_id = '1-7aLGUHpb_MS51n8zEHEr7t-_jcU-3Nv'\n",
    "# https://drive.google.com/drive/u/0/folders/13ulZzNCwarQ-omLcModLUekOjTLslANo\n",
    "file_list = GoogleDrive.ListFile({'q': f\"'{folder_id}' in parents\"}).GetList()\n",
    "for file in file_list:\n",
    "    print(f\"title: {file['title']}, id: {file['id']}\")\n",
    "\n",
    "# this is the id for the \"detail file\", which needs to be linked to other student \n",
    "# info to create school specific files 1HHq7pwNxf3IANLdTLvYAKSMKPAIqn9eBI3whS8BBUPo\n",
    "     "
   ]
  },
  {
   "cell_type": "code",
   "execution_count": 4,
   "id": "0cce9cc1",
   "metadata": {},
   "outputs": [
    {
     "name": "stdout",
     "output_type": "stream",
     "text": [
      "('raw_data_', '1-IF09wCju25j6HK88uN7uWl-_Xs13ctE'),\n",
      "('raw_data_', '1irFhm_XtKx7mIYzWXEenvbwtaf1UZBVQGOAf5POJtlU'),\n",
      "('raw_data_', '1HHq7pwNxf3IANLdTLvYAKSMKPAIqn9eBI3whS8BBUPo'),\n",
      "('raw_data_', '1_sCtswJZAbDRw4mhdN3rImikxxNy65-XPidgrSuxZYs'),\n",
      "('raw_data_', '10fOPXJAe2VKODnU8DOApgBqWr7PAIKuj'),\n",
      "('raw_data_', '1116ustUVHozYmbhmna-4mhNcebbLvNXr'),\n",
      "('raw_data_', '11A8Nj0NSNjzReHNGBgQYPfK2GeU8jZKc'),\n",
      "('raw_data_', '1-9TqWa8I01iMl853enA84V44AWbgRib2'),\n",
      "('raw_data_', '11V_sK8psFGPU8y61nCWd4GfEXAC55v3i'),\n",
      "('raw_data_', '1-pPZc2g1w-_pS1pAvbx_BfaMEiD_9ztX'),\n",
      "('raw_data_', '1-tmecbT86dic4ocImFAJn7sVR1NGsuvF'),\n",
      "('raw_data_', '11cWKJAHRR-tgm_EwLVP5OSIjIxGvXDK5'),\n",
      "('raw_data_', '1-jqxV_TfO4vgb0A_i1XZ6ZipLEsXBXLJ'),\n",
      "('raw_data_', '1-zgqPXRHSvzyEGx3d-VzvV1JkrNVgjYh'),\n",
      "('raw_data_', '11kXK-_LTJMsIgrQZaQOJ29RCUvBkYBuE'),\n",
      "('raw_data_', '10IQjo2Kx0WgehiF3KUGNstPODkmzoIuB'),\n",
      "('raw_data_', '11gioVBzda8Vm9ZWBMNy8osDxnvDtneQU'),\n",
      "('raw_data_', '1-yi0yTZWp1EVn9F3_3vBuacWc9eg2BKK'),\n",
      "('raw_data_', '10KrHBQn4jNNBjvOQn3MVDNjqz4DgM1em'),\n",
      "('raw_data_', '11jDmlwRucFGT4RbrsSqklDph5cf0dWff'),\n",
      "('raw_data_', '12UyRPgXYO9WnnjWZbS0oCjvIcLEQCX4G'),\n",
      "('raw_data_', '10H-L85PeJasmvUJy3AWL41N19dnjOntG'),\n",
      "('raw_data_', '101HWyKZiD6ulPnL1sQlJXi-jaPdBoTCR'),\n",
      "('raw_data_', '12UnbxjOvAC826kAK2ryF0gyPiWpc-PgB'),\n",
      "('raw_data_', '11x1gU6KTZa4Lv7G0XW_zVK3YMIgljmh2'),\n",
      "('raw_data_', '103LWXKA0O9YuVj23-rQ7cylmAphWWzQp'),\n",
      "('raw_data_', '10-fSiJbiN_vHQbcpLBqQAlkY19hTzpxF'),\n",
      "('raw_data_', '11z7fXQjtZU8RukeAvL-ERfReRFvuamFp'),\n",
      "('raw_data_', '127VYEMANpAe0fDopwd9to11DnkOtXpav'),\n",
      "('raw_data_', '14r6bxqPWXDe5UYiOjde30GHUwMiR0lzx'),\n",
      "('raw_data_', '12J0TkAb2gKvYZMGBqCwpbV1HRsHRqiu5'),\n",
      "('raw_data_', '14YMXEgUCUMU0p8_ulgaWGL6EPZO_KltD'),\n",
      "('raw_data_', '12TVdpXuGyAPmfzIvqGeANhIobv-C3I4g'),\n",
      "('raw_data_', '14onBsoZcJhfcn368FiMXoWmJc4cgRjna'),\n",
      "('raw_data_', '125Ftx8OBqmFmB-T61uHldzMI9YwUmAEp'),\n",
      "('raw_data_', '14ZJXGsPQCGGNgEWrmFPEnbU-X4Y_xGeG'),\n",
      "('raw_data_', '14lLvYFuaEwvs96JOjsEBzA-k5eM3ZEUt'),\n",
      "('raw_data_', '14fAPpg-SHBsUm3mJsqyarvePhCZBKs5r'),\n",
      "('raw_data_', '13NLrcLD5zg4CUd7V_0TAMIUWjwo_g9RX'),\n",
      "('raw_data_', '14jUM9avw18NG2a6IWxD34oDiDDKr0i4j'),\n",
      "('raw_data_', '14bdrm2VNQ1uT0mr7dcsGc-BMM5D0TG9l'),\n",
      "('raw_data_', '12sBvdQ6AaGPtRSTtNl03-0rP5AgsJiTA'),\n",
      "('raw_data_', '13OGJPRt4jtuHHz4ueF5F-XgtN9YOnOk1'),\n",
      "('raw_data_', '12tz_gS7inUUISSqkQRWFUL_Bz3NXPKVF'),\n",
      "('raw_data_', '11rXBuMQsbBqm6B9y0vtbc3x9KV3Pqu6k'),\n",
      "('raw_data_', '13G99iYh5Q0vYFOzpK2Bu2nx-30ej2LXY'),\n",
      "('raw_data_', '133Zfs9tV3G5hya_2LheBD8vv2CDYb7ek'),\n",
      "('raw_data_', '1429zFblDL3yaphp4AWQgzxz-BCehJoG_'),\n",
      "('raw_data_', '13AB4TzlpL3I98GzvG6Z3REuG5m6MAW7k'),\n",
      "('raw_data_', '13OGTAx1DOfgvvxNaReWKIWD_8MIWQ0mI'),\n",
      "('raw_data_', '137s2PV7NLDcKPeZSTCps8E4PTGupmqJp'),\n",
      "('raw_data_', '13RVpQ92WfzF3p-WF9_18cYylRzz2zAov'),\n",
      "('raw_data_', '14Ok9ppN_Is_l8H1p-sfoNHEqJVH_MGdq'),\n",
      "('raw_data_', '13V2tfABVKeLySDQlpjJRrUbMOlE5sghj'),\n",
      "('raw_data_', '143ezD26U7AAK0WXun0y9HLsVfEuztGPm'),\n",
      "('raw_data_', '14FKhxbRAFWE0dFE_Q6ReJ-SuODAZxTnc'),\n",
      "('raw_data_', '13xKGkqxK2ZuPB-mMfBUS81qjWsLP2RUG'),\n",
      "('raw_data_', '13YsNeZL-S8rV-kHtYMzdRS6XBoETzWoC'),\n",
      "('raw_data_', '13WWQrXhfEA67aL8S_bkgfSgtV0LPN4Mv'),\n",
      "('raw_data_', '144VLRAgzBSYIwSxgGW1aRPs7g1glwpRP'),\n",
      "('raw_data_', '14F0zQwzj3qZ9WXvuKVCDK4u7_V6S3qzi'),\n",
      "('raw_data_', '11RviLc7CsBULarUJKF25f85Fs3CIEULD'),\n",
      "('raw_data_', '146FIvTYkb_nAE9FiKEXeckRG5X5YJFEd'),\n",
      "('raw_data_', '11DBEhfLOiZfWqwmPIoyb3CA5d2Mn7Dnq'),\n",
      "('raw_data_', '145xKyIWp5KKY8wl7vfu0FXDWSv5PUuob'),\n",
      "('raw_data_', '14AeRT5B_Tk9veTpYbswGesb-htStkhcD'),\n",
      "('raw_data_', '10e6c4SZswFADrtHIulLytg7PYENjzXMg'),\n",
      "('raw_data_', '10cJs44sjOLRNhYyDZQigyhD2LrqFa7N3'),\n",
      "('raw_data_', '12WxPE9q_QL-jRC0mXuQOyWOjb_wY9qlT'),\n",
      "('raw_data_', '10bTjuAO29C2_BpKwXZiDFHXffJNM1bTE'),\n",
      "('raw_data_', '12Z1T5RKRVlGzmT8i28l7Di0Z4KNNShyG'),\n",
      "('raw_data_', '115h39TSBNO_iiFNyEQjoVxOty-XKFJtm'),\n",
      "('raw_data_', '10oHtDgcMGRJoBpst5EO_rVudWsVT0DR0'),\n",
      "('raw_data_', '12k-1E827TIU002yqj4qvJLHV2rMPab9t'),\n",
      "('raw_data_', '12_8R22do0V2Xt4b2Vu_uSE6s_RLs1gsH'),\n",
      "('raw_data_', '142fJgrT5wqM3x5ejroGNR1vI3pJVQjm6'),\n",
      "('raw_data_', '12nf9oyjCM2W2zpaLcQA1jHIFdvgeviV9'),\n",
      "('raw_data_', '12qn56HLSydOnJ59X1tYGxmua7Ki4P9Bs'),\n",
      "('raw_data_', '10NotilnwUlqM1ijAYk0SiOO4yvtww5B1'),\n",
      "('raw_data_', '143RuEIWWeTdXzXq8wrH2cAtPeD2bbzje'),\n",
      "('raw_data_', '10R1rb7EHqKXiM6MnaDSEVMEouYNnzrg5'),\n",
      "('raw_data_', '1-X5WcJExTLYTL5KaYv-Zfr0z0kvEL-nq'),\n",
      "('raw_data_', '10X1iFp5whQ9oZtBetunw8bzVDcc1JqTF'),\n",
      "('raw_data_', '10aK5CwOvHUCboXvdWRlekDyN0B3qXyid'),\n",
      "('raw_data_', '1-_JBVonNVOVXzVu1lSUWbSjhngSoKsNA'),\n"
     ]
    }
   ],
   "source": [
    "# print the file list as tuples for easy copy and paste\n",
    "for file in file_list:\n",
    "    print(f\"('raw_data_', '{file['id']}'),\")"
   ]
  },
  {
   "cell_type": "code",
   "execution_count": 5,
   "id": "684ea359",
   "metadata": {},
   "outputs": [],
   "source": [
    "# Copy the tuple list, and then edit the first item of the tuple to be the table name.\n",
    "# Commented out tables are already loaded\n",
    "table_list = [('raw_data_2021_04_16', '1-IF09wCju25j6HK88uN7uWl-_Xs13ctE'),\n",
    "#     ('naviance_prep_2015', '15RCqZywaMHvXKgHh_YhTRciYPsod3WIQ'),\n",
    "#     ('raw_data_2020_04_22', '1475i8HbMw6kCFL1WGM5nSMExJuwwbNO0'),\n",
    "#     ('raw_data_2019_11_25', '149GeT55YS7pUvGAlxv8pftEyOBiE7ILw'),\n",
    "#     ('raw_data_2019_08_17', '14882gWfxMJdx95zkB9N5i5JUOeYx9it-'),\n",
    "#     ('raw_data_2019_04_15', '14C-3K5cL5r4RsU1X6eefQXGiPxNL4cZt'),\n",
    "#     ('raw_data_2018_11_28', '149U1UqiQ6HsyDfjsO1PrI3qD68Z1PqvS'),\n",
    "#     ('naviance_no_prep_2018_05', '14FoWbzIa9a_OiZKde1mlEF4WyNPcjRGI'),\n",
    "#     ('naviance_shasta_2017_12', '14O48NafjtrD3Nvxh98goCnlhM4pC2Gy8'),\n",
    "#     ('naviance_rainier_2017_12', '14LL3visn0Av9TeYZakrc7souJcraU0M3'),\n",
    "#     ('naviance_tahoma_2017_12', '14_QO7XNyJTE1RN8EYM_KjA9WZjVRhcZ8'),\n",
    "#     ('naviance_prep_2017_12', '14i1i4pUMyH2PovH5tLujy6wLvG5b0Que'),\n",
    "#     ('naviance_everest_2017_12', '14MmWVLvM2E0kBfaEMd_3YHn9ix6NWlwJ'),\n",
    "#     ('naviance_tahoma_2017_04', '15W5lTw9Ox1BPmEkHcKYd3uC5UWuUcZ0p'),\n",
    "#     ('naviance_rainier_2017_04', '15RB_VOS2gsXzyidCpu-jM-clWVYjBAwV'),\n",
    "#     ('naviance_prep_2017_04', '14nmtF09aM76M2pASvlrxGw8mUD7COC9Q'),\n",
    "#     ('naviance_everest_2017_04', '14s5ZmhgKban0TBQ_GGeSH5ReZJj_uxix'),\n",
    "#     ('naviance_prep_2016_10', '14zw36h42M9Xn0lg6U11yFSoHnBacD6bp'),\n",
    "#     ('naviance_everest_2016_10', '15Kd8dCE9jKqD9aVzTDRzDK14CQdk0YpZ'),\n",
    "#     ('naviance_tahoma_2016_09', '15_RI45zQo-y27Mr1vBBD_t7wHN1dWqpJ'),\n",
    "#     ('naviance_rainier_2016_09', '15aZrvtmWvK4m4H_hp6WaJzdiKxcC_SmF'),\n",
    "#     ('naviance_everest_2016_09', '15S4SD194fnx-ZqRzLGrALG9PYZfvT7cn'),\n",
    "#     ('naviance_tahoma_2015_12_01', '0B61jdQ3zkvtyUC1iOEUyNmdqQXc'),\n",
    "#     ('naviance_rainier_2015_12_01', '0B61jdQ3zkvtyRXFFcnNIUXRCQ28'),\n",
    "#     ('naviance_prep_2015_12_01', '0B61jdQ3zkvtyVHFJTGVQUkFzRFU'),\n",
    "#     ('naviance_everest_2015_12_01', '0B61jdQ3zkvtyZ3czU0gxMlVYOHM'),\n",
    "]\n",
    " "
   ]
  },
  {
   "cell_type": "code",
   "execution_count": 6,
   "id": "946de3d6",
   "metadata": {},
   "outputs": [
    {
     "name": "stdout",
     "output_type": "stream",
     "text": [
      "raw_data_2021_04_16\n",
      "1-IF09wCju25j6HK88uN7uWl-_Xs13ctE\n"
     ]
    }
   ],
   "source": [
    "for table_tuple in table_list:\n",
    "    table = table_tuple[0]\n",
    "    file_id = table_tuple[1]\n",
    "    \n",
    "    print(table)\n",
    "    print(file_id)"
   ]
  },
  {
   "cell_type": "code",
   "execution_count": 11,
   "id": "95874a47",
   "metadata": {},
   "outputs": [],
   "source": [
    "create_sql = create_table_stmt(table, schema, google_drive_id=file_id, force_string=True, )\n"
   ]
  },
  {
   "cell_type": "code",
   "execution_count": 12,
   "id": "3e1d3b69",
   "metadata": {},
   "outputs": [
    {
     "data": {
      "text/plain": [
       "(<sqlalchemy.engine.base.Connection at 0x2076ecd80d0>,\n",
       " <sqlalchemy.engine.cursor.LegacyCursorResult at 0x20768280c10>)"
      ]
     },
     "execution_count": 12,
     "metadata": {},
     "output_type": "execute_result"
    }
   ],
   "source": [
    "Warehouse.execute(create_sql)\n"
   ]
  },
  {
   "cell_type": "code",
   "execution_count": 13,
   "id": "c9f97648",
   "metadata": {},
   "outputs": [
    {
     "name": "stdout",
     "output_type": "stream",
     "text": [
      "20155 rows to insert\n",
      "Inserted 2000 rows to national_student_clearinghouse.raw_data_2021_04_16\n",
      "Inserted 2000 rows to national_student_clearinghouse.raw_data_2021_04_16\n",
      "Inserted 2000 rows to national_student_clearinghouse.raw_data_2021_04_16\n",
      "Inserted 2000 rows to national_student_clearinghouse.raw_data_2021_04_16\n",
      "Inserted 2000 rows to national_student_clearinghouse.raw_data_2021_04_16\n",
      "Inserted 2000 rows to national_student_clearinghouse.raw_data_2021_04_16\n",
      "Inserted 2000 rows to national_student_clearinghouse.raw_data_2021_04_16\n",
      "Inserted 2000 rows to national_student_clearinghouse.raw_data_2021_04_16\n",
      "Inserted 2000 rows to national_student_clearinghouse.raw_data_2021_04_16\n",
      "Inserted 2000 rows to national_student_clearinghouse.raw_data_2021_04_16\n",
      "Inserted 155 rows to national_student_clearinghouse.raw_data_2021_04_16\n"
     ]
    }
   ],
   "source": [
    "table_reflect = Warehouse.reflect(table, schema)\n",
    "\n",
    "upload_to_warehouse(table_reflect, google_drive_id=file_id, force_string=True, batch_size=2000)\n"
   ]
  },
  {
   "cell_type": "code",
   "execution_count": null,
   "id": "b7c85d33",
   "metadata": {},
   "outputs": [],
   "source": []
  }
 ],
 "metadata": {
  "kernelspec": {
   "display_name": "Python 3 (ipykernel)",
   "language": "python",
   "name": "python3"
  },
  "language_info": {
   "codemirror_mode": {
    "name": "ipython",
    "version": 3
   },
   "file_extension": ".py",
   "mimetype": "text/x-python",
   "name": "python",
   "nbconvert_exporter": "python",
   "pygments_lexer": "ipython3",
   "version": "3.9.13"
  }
 },
 "nbformat": 4,
 "nbformat_minor": 5
}
