{
 "cells": [
  {
   "cell_type": "code",
   "execution_count": 1,
   "id": "693e4cf2",
   "metadata": {},
   "outputs": [
    {
     "name": "stdout",
     "output_type": "stream",
     "text": [
      "To access your Google Drive file, share the file with jupyter-sheets@sps-warehouse.iam.gserviceaccount.com\n"
     ]
    }
   ],
   "source": [
    "from spswarehouse.warehouse import Warehouse\n",
    "from spswarehouse.googledrive import GoogleDrive\n",
    "from spswarehouse.table_utils import *"
   ]
  },
  {
   "cell_type": "code",
   "execution_count": 2,
   "id": "47de0726",
   "metadata": {},
   "outputs": [
    {
     "data": {
      "text/plain": [
       "(<sqlalchemy.engine.base.Connection at 0x1a0eedd0e20>,\n",
       " <sqlalchemy.engine.cursor.LegacyCursorResult at 0x1a0eee17130>)"
      ]
     },
     "execution_count": 2,
     "metadata": {},
     "output_type": "execute_result"
    }
   ],
   "source": [
    "schema = 'national_student_clearinghouse'\n",
    "\n",
    "Warehouse.execute(\"USE ROLE ANALYTICS\")\n"
   ]
  },
  {
   "cell_type": "code",
   "execution_count": 4,
   "id": "752a3795",
   "metadata": {},
   "outputs": [
    {
     "name": "stdout",
     "output_type": "stream",
     "text": [
      "title: DENALI_BASIC_EFFDT_20201114_RUNDT_20201123071535411.pdf, id: 1W2UrapkGxNqa86_A-2sYiM3lJ7kbMDD-\n",
      "title: SPS_BASIC_EFFDT_20201114_RUNDT_20201123071522640.pdf, id: 1RofOHgVmv7LTpwAu_R3hvUBtb5pLDc8z\n",
      "title: PREP_TOP25_INSTITUTIONS_BYHSCLASS_PACKET_EFFDT_20201114_RUNDT_20201123071527671.xls, id: 1UMSdKSHb-bb-_E3LJieA0EHxpqlpY2LS\n",
      "title: PREP_TOP25_INSTITUTIONS_BYHSCLASS_PACKET_EFFDT_20201114_RUNDT_20201123071526961.pdf, id: 1RwCOfXe8mx_FmTYoCcRC8WAdPO5J2z3T\n",
      "title: PREP_BASIC_EFFDT_20201114_RUNDT_20201123071526909.xls, id: 1S2R8fWM8wuf8cp0Itj5VEm_eDIy71w68\n",
      "title: PREP_BASIC_EFFDT_20201114_RUNDT_20201123071526840.pdf, id: 1S9QZiLXWxV1BsIYyzTHZ9bXoccPH-wKU\n",
      "title: K2_TOP25_INSTITUTIONS_BYHSCLASS_PACKET_EFFDT_20201114_RUNDT_20201123071536909.xls, id: 1Wk_D9MiuxjOtINtou1Y1YWJyKGSUcD4_\n",
      "title: K2_TOP25_INSTITUTIONS_BYHSCLASS_PACKET_EFFDT_20201114_RUNDT_20201123071536530.pdf, id: 1Wl_zhs-fJrx3DGUxulJbUX7uz3qAUM6f\n",
      "title: K2_BASIC_EFFDT_20201114_RUNDT_20201123071536448.xls, id: 1Wr70VHXZ1yCsFgVuo_KqBwRSPD35gav6\n",
      "title: K2_BASIC_EFFDT_20201114_RUNDT_20201123071536360.pdf, id: 1WsRsxHW-Jn_-LLk2TGr7DoNSeDZn-jK8\n",
      "title: DENALI_TOP25_INSTITUTIONS_BYHSCLASS_PACKET_EFFDT_20201114_RUNDT_20201123071536066.xls, id: 1X0oCJ2EKjO2zqIitslo3v5_8w0cH0xkr\n",
      "title: DENALI_TOP25_INSTITUTIONS_BYHSCLASS_PACKET_EFFDT_20201114_RUNDT_20201123071535649.pdf, id: 1X6gRWA7bMShYsdMzxa6F4bLF62iQN453\n",
      "title: DENALI_BASIC_EFFDT_20201114_RUNDT_20201123071535538.xls, id: 1W-9xSns3AF1IGueEIgNk6wJMcGLJ4Ad9\n",
      "title: OLYMPUS_TOP25_INSTITUTIONS_BYHSCLASS_PACKET_EFFDT_20201114_RUNDT_20201123071530329.xls, id: 1TWZ0gocKORMQWBJ3lZCOyoIh9x66c_oO\n",
      "title: OLYMPUS_TOP25_INSTITUTIONS_BYHSCLASS_PACKET_EFFDT_20201114_RUNDT_20201123071529581.pdf, id: 1TcrgD3sQWCVVecdYaGz4JAJyRjo1mT6w\n",
      "title: OLYMPUS_BASIC_EFFDT_20201114_RUNDT_20201123071528301.xls, id: 1U0nkyz4G8lMCiV1IT_kZ0q9LhcTJMV98\n",
      "title: OLYMPUS_BASIC_EFFDT_20201114_RUNDT_20201123071528184.pdf, id: 1U9ysHGXPU9PPe3uT_K4EgOPCE1gpkEaX\n",
      "title: SIERRA_TOP25_INSTITUTIONS_BYHSCLASS_PACKET_EFFDT_20201114_RUNDT_20201123071533830.xls, id: 1WbUAJc9TLfoqn4EexzQ4sAQD0aLTd6FI\n",
      "title: SIERRA_TOP25_INSTITUTIONS_BYHSCLASS_PACKET_EFFDT_20201114_RUNDT_20201123071533383.pdf, id: 1WfhZjEPzUaFEseSNrZLqUmXmdCxW5Rl5\n",
      "title: SIERRA_BASIC_EFFDT_20201114_RUNDT_20201123071533335.xls, id: 1UQNFegR75TfRVo-RDkdi0oLhJOOM4FIL\n",
      "title: SIERRA_BASIC_EFFDT_20201114_RUNDT_20201123071533296.pdf, id: 1UUJW_Tr_XRznSBwVw-dL6BNQuYySak1L\n",
      "title: SHASTA_TOP25_INSTITUTIONS_BYHSCLASS_PACKET_EFFDT_20201114_RUNDT_20201123071532921.xls, id: 1VB9DS5Vi4o5zSkmuRr-UQ-4QOHamEDQh\n",
      "title: SHASTA_TOP25_INSTITUTIONS_BYHSCLASS_PACKET_EFFDT_20201114_RUNDT_20201123071532376.pdf, id: 1VC33PXC9e2VYhntjMJst95DRfEFXn1it\n",
      "title: SHASTA_BASIC_EFFDT_20201114_RUNDT_20201123071532323.xls, id: 1VRNNED5AbRHzxCFohDTys_RyieNiLOtI\n",
      "title: SHASTA_BASIC_EFFDT_20201114_RUNDT_20201123071532259.pdf, id: 1VVsFbi9FrhzIsvtO2IXufYsL7Y1JQw-I\n",
      "title: TAHOMA_TOP25_INSTITUTIONS_BYHSCLASS_PACKET_EFFDT_20201114_RUNDT_20201123071534885.xls, id: 1WAeReWIZj4y01hB7M0-fCT5S0vHjSJRv\n",
      "title: TAHOMA_TOP25_INSTITUTIONS_BYHSCLASS_PACKET_EFFDT_20201114_RUNDT_20201123071534251.pdf, id: 1WG04XJ9rJMhCiuv949jn5IG7E_yc-h1D\n",
      "title: TAHOMA_BASIC_EFFDT_20201114_RUNDT_20201123071534216.xls, id: 1WNrMk4x_Cv0PVKvtx--TlZk3GtY6rJak\n",
      "title: TAHOMA_BASIC_EFFDT_20201114_RUNDT_20201123071534163.pdf, id: 1Wa2wUDOwX_9pUHFOTiejNjg5oiBnJT9V\n",
      "title: RAINIER_TOP25_INSTITUTIONS_BYHSCLASS_PACKET_EFFDT_20201114_RUNDT_20201123071531814.xls, id: 1VqrzUeWmg2Oxx_iUF-MfUyztZWL7oUUD\n",
      "title: RAINIER_TOP25_INSTITUTIONS_BYHSCLASS_PACKET_EFFDT_20201114_RUNDT_20201123071531110.pdf, id: 1VztShTV9qGR0uEcDTSAyal1wuIQyIl8B\n",
      "title: RAINIER_BASIC_EFFDT_20201114_RUNDT_20201123071530990.xls, id: 1T-6tw6OVki2hmuk_vV7BZtK9gFEj7J5N\n",
      "title: RAINIER_BASIC_EFFDT_20201114_RUNDT_20201123071530752.pdf, id: 1T3BC0LYpDi9EhtWVPz-PJ74lZwUH8ZKW\n",
      "title: EVEREST_TOP25_INSTITUTIONS_BYHSCLASS_PACKET_EFFDT_20201114_RUNDT_20201123071526414.xls, id: 1SJLuUzR7Yci083sZsemPHzoz4gM6nyHl\n",
      "title: EVEREST_TOP25_INSTITUTIONS_BYHSCLASS_PACKET_EFFDT_20201114_RUNDT_20201123071525517.pdf, id: 1SJaRqG9-LUxpr67GD8SAWzA0e9r-S_gR\n",
      "title: EVEREST_BASIC_EFFDT_20201114_RUNDT_20201123071525447.xls, id: 1SRrlQnwvv3GLoyP9n13d4kLWOPGFu3wv\n",
      "title: EVEREST_BASIC_EFFDT_20201114_RUNDT_20201123071525375.pdf, id: 1SWIKd_0lpkK4JXkD_8WeMmMQ3b-pix-x\n",
      "title: SPS_TOP25_INSTITUTIONS_BYHSCLASS_PACKET_EFFDT_20201114_RUNDT_20201123071524249.xls, id: 1Sds8DgkX2Zy0ZOdzlmBmTmgaySW7-pwj\n",
      "title: SPS_TOP25_INSTITUTIONS_BYHSCLASS_PACKET_EFFDT_20201114_RUNDT_20201123071523107.pdf, id: 1SfptzWS8v8z2qRvf5Xo-AgiY0yJ32PXL\n",
      "title: SPS_BASIC_EFFDT_20201114_RUNDT_20201123071522961.xls, id: 1SxMIGzE5_iX37f2EP2bYlYzUlvTDOH1T\n",
      "title: 10055266hsst_10055266-125730-DETAIL-EFFDT-20200918-RUNDT-20201014.csv, id: 1XrU0A4Z8EdXLiR-UlcCrna71aws9I55I\n",
      "title: 10055266hsst_10055266_EFFDT_20200918_RUNDT_20201014061035871.zip, id: 1XrxsmqiBmDoBEDc3rJ9N45VGQwamg5C7\n",
      "title: TAHOMA_DEMOGRAPHICS_PACKET_EFFDT_20200918_RUNDT_20201014061115553.pdf, id: 1qT_JspvXZmbgjbrluCJPgCCdnBP-s0Ml\n"
     ]
    }
   ],
   "source": [
    "# Print the list of files and verify which files to upload\n",
    "\n",
    "folder_id = '1Rf9bBCvsNcxNN7G4hfCtbInEdBZ0_I0w'\n",
    "# https://drive.google.com/drive/u/0/folders/10_CUbhueKy--y5BAAU53iDpDkHUVOlOJ -- Dec 2022\n",
    "# https://drive.google.com/drive/u/0/folders/1sAWtBci-mcMP6Cyvbyl0PcXiIQs8-rVl -- Aug 2022. \n",
    "# https://drive.google.com/drive/u/0/folders/1E_-2ElbTg9yDUvcT4Pb0q7Cl1M1lIXwM -- April 2022\n",
    "# https://drive.google.com/drive/u/0/folders/1-7aLGUHpb_MS51n8zEHEr7t-_jcU-3Nv -- April 2021 \n",
    "# https://drive.google.com/drive/folders/1Rf9bBCvsNcxNN7G4hfCtbInEdBZ0_I0w -- Sept 2020 \n",
    "\n",
    "# https://drive.google.com/drive/u/0/folders/13ulZzNCwarQ-omLcModLUekOjTLslANo -- some of the earlier files (not all)\n",
    "\n",
    "file_list = GoogleDrive.ListFile({'q': f\"'{folder_id}' in parents\"}).GetList()\n",
    "for file in file_list:\n",
    "    print(f\"title: {file['title']}, id: {file['id']}\")\n",
    "\n",
    "# this is the id for the \"detail file\", which needs to be linked to other student \n",
    "# info to create school specific files 1HHq7pwNxf3IANLdTLvYAKSMKPAIqn9eBI3whS8BBUPo\n",
    "     "
   ]
  },
  {
   "cell_type": "code",
   "execution_count": 5,
   "id": "0cce9cc1",
   "metadata": {},
   "outputs": [
    {
     "name": "stdout",
     "output_type": "stream",
     "text": [
      "('raw_data_', '1W2UrapkGxNqa86_A-2sYiM3lJ7kbMDD-'),\n",
      "('raw_data_', '1RofOHgVmv7LTpwAu_R3hvUBtb5pLDc8z'),\n",
      "('raw_data_', '1UMSdKSHb-bb-_E3LJieA0EHxpqlpY2LS'),\n",
      "('raw_data_', '1RwCOfXe8mx_FmTYoCcRC8WAdPO5J2z3T'),\n",
      "('raw_data_', '1S2R8fWM8wuf8cp0Itj5VEm_eDIy71w68'),\n",
      "('raw_data_', '1S9QZiLXWxV1BsIYyzTHZ9bXoccPH-wKU'),\n",
      "('raw_data_', '1Wk_D9MiuxjOtINtou1Y1YWJyKGSUcD4_'),\n",
      "('raw_data_', '1Wl_zhs-fJrx3DGUxulJbUX7uz3qAUM6f'),\n",
      "('raw_data_', '1Wr70VHXZ1yCsFgVuo_KqBwRSPD35gav6'),\n",
      "('raw_data_', '1WsRsxHW-Jn_-LLk2TGr7DoNSeDZn-jK8'),\n",
      "('raw_data_', '1X0oCJ2EKjO2zqIitslo3v5_8w0cH0xkr'),\n",
      "('raw_data_', '1X6gRWA7bMShYsdMzxa6F4bLF62iQN453'),\n",
      "('raw_data_', '1W-9xSns3AF1IGueEIgNk6wJMcGLJ4Ad9'),\n",
      "('raw_data_', '1TWZ0gocKORMQWBJ3lZCOyoIh9x66c_oO'),\n",
      "('raw_data_', '1TcrgD3sQWCVVecdYaGz4JAJyRjo1mT6w'),\n",
      "('raw_data_', '1U0nkyz4G8lMCiV1IT_kZ0q9LhcTJMV98'),\n",
      "('raw_data_', '1U9ysHGXPU9PPe3uT_K4EgOPCE1gpkEaX'),\n",
      "('raw_data_', '1WbUAJc9TLfoqn4EexzQ4sAQD0aLTd6FI'),\n",
      "('raw_data_', '1WfhZjEPzUaFEseSNrZLqUmXmdCxW5Rl5'),\n",
      "('raw_data_', '1UQNFegR75TfRVo-RDkdi0oLhJOOM4FIL'),\n",
      "('raw_data_', '1UUJW_Tr_XRznSBwVw-dL6BNQuYySak1L'),\n",
      "('raw_data_', '1VB9DS5Vi4o5zSkmuRr-UQ-4QOHamEDQh'),\n",
      "('raw_data_', '1VC33PXC9e2VYhntjMJst95DRfEFXn1it'),\n",
      "('raw_data_', '1VRNNED5AbRHzxCFohDTys_RyieNiLOtI'),\n",
      "('raw_data_', '1VVsFbi9FrhzIsvtO2IXufYsL7Y1JQw-I'),\n",
      "('raw_data_', '1WAeReWIZj4y01hB7M0-fCT5S0vHjSJRv'),\n",
      "('raw_data_', '1WG04XJ9rJMhCiuv949jn5IG7E_yc-h1D'),\n",
      "('raw_data_', '1WNrMk4x_Cv0PVKvtx--TlZk3GtY6rJak'),\n",
      "('raw_data_', '1Wa2wUDOwX_9pUHFOTiejNjg5oiBnJT9V'),\n",
      "('raw_data_', '1VqrzUeWmg2Oxx_iUF-MfUyztZWL7oUUD'),\n",
      "('raw_data_', '1VztShTV9qGR0uEcDTSAyal1wuIQyIl8B'),\n",
      "('raw_data_', '1T-6tw6OVki2hmuk_vV7BZtK9gFEj7J5N'),\n",
      "('raw_data_', '1T3BC0LYpDi9EhtWVPz-PJ74lZwUH8ZKW'),\n",
      "('raw_data_', '1SJLuUzR7Yci083sZsemPHzoz4gM6nyHl'),\n",
      "('raw_data_', '1SJaRqG9-LUxpr67GD8SAWzA0e9r-S_gR'),\n",
      "('raw_data_', '1SRrlQnwvv3GLoyP9n13d4kLWOPGFu3wv'),\n",
      "('raw_data_', '1SWIKd_0lpkK4JXkD_8WeMmMQ3b-pix-x'),\n",
      "('raw_data_', '1Sds8DgkX2Zy0ZOdzlmBmTmgaySW7-pwj'),\n",
      "('raw_data_', '1SfptzWS8v8z2qRvf5Xo-AgiY0yJ32PXL'),\n",
      "('raw_data_', '1SxMIGzE5_iX37f2EP2bYlYzUlvTDOH1T'),\n",
      "('raw_data_', '1XrU0A4Z8EdXLiR-UlcCrna71aws9I55I'),\n",
      "('raw_data_', '1XrxsmqiBmDoBEDc3rJ9N45VGQwamg5C7'),\n",
      "('raw_data_', '1qT_JspvXZmbgjbrluCJPgCCdnBP-s0Ml'),\n"
     ]
    }
   ],
   "source": [
    "# print the file list as tuples for easy copy and paste\n",
    "for file in file_list:\n",
    "    print(f\"('raw_data_', '{file['id']}'),\")"
   ]
  },
  {
   "cell_type": "code",
   "execution_count": 6,
   "id": "684ea359",
   "metadata": {},
   "outputs": [],
   "source": [
    "# Copy the tuple list, and then edit the first item of the tuple to be the table name.\n",
    "# Commented out tables are already loaded\n",
    "table_list = [ ('raw_data_2020_09_18', '1XrU0A4Z8EdXLiR-UlcCrna71aws9I55I'),\n",
    "\n",
    "#     ('raw_data_2022_04_21', '1qL0yNS3-k6HDaNx2ju5bW9xdVbBMMxuV'),\n",
    "#     ('raw_data_2022_08_30', '15-Z8r_gJ49anjL3XmWTTphBLWLSUBpTL'),\n",
    "#     ('raw_data_2021_04_16', '1-IF09wCju25j6HK88uN7uWl-_Xs13ctE'),\n",
    "#     ('naviance_prep_2015', '15RCqZywaMHvXKgHh_YhTRciYPsod3WIQ'),\n",
    "#     ('raw_data_2020_04_22', '1475i8HbMw6kCFL1WGM5nSMExJuwwbNO0'),\n",
    "#     ('raw_data_2019_11_25', '149GeT55YS7pUvGAlxv8pftEyOBiE7ILw'),\n",
    "#     ('raw_data_2019_08_17', '14882gWfxMJdx95zkB9N5i5JUOeYx9it-'),\n",
    "#     ('raw_data_2019_04_15', '14C-3K5cL5r4RsU1X6eefQXGiPxNL4cZt'),\n",
    "#     ('raw_data_2018_11_28', '149U1UqiQ6HsyDfjsO1PrI3qD68Z1PqvS'),\n",
    "#     ('naviance_no_prep_2018_05', '14FoWbzIa9a_OiZKde1mlEF4WyNPcjRGI'),\n",
    "#     ('naviance_shasta_2017_12', '14O48NafjtrD3Nvxh98goCnlhM4pC2Gy8'),\n",
    "#     ('naviance_rainier_2017_12', '14LL3visn0Av9TeYZakrc7souJcraU0M3'),\n",
    "#     ('naviance_tahoma_2017_12', '14_QO7XNyJTE1RN8EYM_KjA9WZjVRhcZ8'),\n",
    "#     ('naviance_prep_2017_12', '14i1i4pUMyH2PovH5tLujy6wLvG5b0Que'),\n",
    "#     ('naviance_everest_2017_12', '14MmWVLvM2E0kBfaEMd_3YHn9ix6NWlwJ'),\n",
    "#     ('naviance_tahoma_2017_04', '15W5lTw9Ox1BPmEkHcKYd3uC5UWuUcZ0p'),\n",
    "#     ('naviance_rainier_2017_04', '15RB_VOS2gsXzyidCpu-jM-clWVYjBAwV'),\n",
    "#     ('naviance_prep_2017_04', '14nmtF09aM76M2pASvlrxGw8mUD7COC9Q'),\n",
    "#     ('naviance_everest_2017_04', '14s5ZmhgKban0TBQ_GGeSH5ReZJj_uxix'),\n",
    "#     ('naviance_prep_2016_10', '14zw36h42M9Xn0lg6U11yFSoHnBacD6bp'),\n",
    "#     ('naviance_everest_2016_10', '15Kd8dCE9jKqD9aVzTDRzDK14CQdk0YpZ'),\n",
    "#     ('naviance_tahoma_2016_09', '15_RI45zQo-y27Mr1vBBD_t7wHN1dWqpJ'),\n",
    "#     ('naviance_rainier_2016_09', '15aZrvtmWvK4m4H_hp6WaJzdiKxcC_SmF'),\n",
    "#     ('naviance_everest_2016_09', '15S4SD194fnx-ZqRzLGrALG9PYZfvT7cn'),\n",
    "#     ('naviance_tahoma_2015_12_01', '0B61jdQ3zkvtyUC1iOEUyNmdqQXc'),\n",
    "#     ('naviance_rainier_2015_12_01', '0B61jdQ3zkvtyRXFFcnNIUXRCQ28'),\n",
    "#     ('naviance_prep_2015_12_01', '0B61jdQ3zkvtyVHFJTGVQUkFzRFU'),\n",
    "#     ('naviance_everest_2015_12_01', '0B61jdQ3zkvtyZ3czU0gxMlVYOHM'),\n",
    "]\n",
    " "
   ]
  },
  {
   "cell_type": "code",
   "execution_count": 7,
   "id": "946de3d6",
   "metadata": {},
   "outputs": [
    {
     "name": "stdout",
     "output_type": "stream",
     "text": [
      "raw_data_2020_09_18\n",
      "1XrU0A4Z8EdXLiR-UlcCrna71aws9I55I\n"
     ]
    }
   ],
   "source": [
    "for table_tuple in table_list:\n",
    "    table = table_tuple[0]\n",
    "    file_id = table_tuple[1]\n",
    "    \n",
    "    print(table)\n",
    "    print(file_id)"
   ]
  },
  {
   "cell_type": "code",
   "execution_count": 8,
   "id": "95874a47",
   "metadata": {},
   "outputs": [],
   "source": [
    "create_sql = create_table_stmt(table, schema, google_drive_id=file_id, force_string=True, encoding='latin-1')\n"
   ]
  },
  {
   "cell_type": "code",
   "execution_count": 9,
   "id": "3e1d3b69",
   "metadata": {},
   "outputs": [
    {
     "data": {
      "text/plain": [
       "(<sqlalchemy.engine.base.Connection at 0x1a0eedd0e20>,\n",
       " <sqlalchemy.engine.cursor.LegacyCursorResult at 0x1a0e83a5760>)"
      ]
     },
     "execution_count": 9,
     "metadata": {},
     "output_type": "execute_result"
    }
   ],
   "source": [
    "Warehouse.execute(create_sql)\n"
   ]
  },
  {
   "cell_type": "code",
   "execution_count": 10,
   "id": "c9f97648",
   "metadata": {},
   "outputs": [
    {
     "name": "stdout",
     "output_type": "stream",
     "text": [
      "17138 rows to insert\n",
      "Inserted 2000 rows to national_student_clearinghouse.raw_data_2020_09_18\n",
      "Inserted 2000 rows to national_student_clearinghouse.raw_data_2020_09_18\n",
      "Inserted 2000 rows to national_student_clearinghouse.raw_data_2020_09_18\n",
      "Inserted 2000 rows to national_student_clearinghouse.raw_data_2020_09_18\n",
      "Inserted 2000 rows to national_student_clearinghouse.raw_data_2020_09_18\n",
      "Inserted 2000 rows to national_student_clearinghouse.raw_data_2020_09_18\n",
      "Inserted 2000 rows to national_student_clearinghouse.raw_data_2020_09_18\n",
      "Inserted 2000 rows to national_student_clearinghouse.raw_data_2020_09_18\n",
      "Inserted 1138 rows to national_student_clearinghouse.raw_data_2020_09_18\n"
     ]
    }
   ],
   "source": [
    "table_reflect = Warehouse.reflect(table, schema)\n",
    "\n",
    "upload_to_warehouse(table_reflect, google_drive_id=file_id, force_string=True, encoding= 'latin-1', batch_size=2000)\n"
   ]
  },
  {
   "cell_type": "code",
   "execution_count": null,
   "id": "b7c85d33",
   "metadata": {},
   "outputs": [],
   "source": []
  }
 ],
 "metadata": {
  "kernelspec": {
   "display_name": "Python 3 (ipykernel)",
   "language": "python",
   "name": "python3"
  },
  "language_info": {
   "codemirror_mode": {
    "name": "ipython",
    "version": 3
   },
   "file_extension": ".py",
   "mimetype": "text/x-python",
   "name": "python",
   "nbconvert_exporter": "python",
   "pygments_lexer": "ipython3",
   "version": "3.9.13"
  }
 },
 "nbformat": 4,
 "nbformat_minor": 5
}
