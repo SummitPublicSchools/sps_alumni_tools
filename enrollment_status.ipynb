{
 "metadata": {
  "language_info": {
   "codemirror_mode": {
    "name": "ipython",
    "version": 3
   },
   "file_extension": ".py",
   "mimetype": "text/x-python",
   "name": "python",
   "nbconvert_exporter": "python",
   "pygments_lexer": "ipython3",
   "version": "3.8.5"
  },
  "orig_nbformat": 2,
  "kernelspec": {
   "name": "python385jvsc74a57bd0b3ba2566441a7c06988d0923437866b63cedc61552a5af99d1f4fb67d367b25f",
   "display_name": "Python 3.8.5 64-bit (conda)"
  }
 },
 "nbformat": 4,
 "nbformat_minor": 2,
 "cells": [
  {
   "cell_type": "code",
   "execution_count": 1,
   "metadata": {},
   "outputs": [],
   "source": [
    "import pandas as pd\n",
    "from os import walk\n",
    "from datetime import datetime"
   ]
  },
  {
   "cell_type": "code",
   "execution_count": 2,
   "metadata": {},
   "outputs": [],
   "source": [
    "def common_member(a, b):\n",
    "    a_set = set(a)\n",
    "    b_set = set(b)\n",
    "  \n",
    "    if (a_set & b_set):\n",
    "        return(list(a_set & b_set))\n",
    "    else:\n",
    "        print(\"No common elements\")"
   ]
  },
  {
   "cell_type": "code",
   "execution_count": 3,
   "metadata": {},
   "outputs": [],
   "source": [
    "enr_up_files = []\n",
    "new_enr_files = []\n",
    "for _ in walk(\".\"):\n",
    "    if (_[0] == '.'):\n",
    "        for file in _[2]:\n",
    "            if (file[:11] == 'enr_update_'):\n",
    "                enr_up_files.append(datetime.strptime(file.strip('enr_update_').rstrip('.csv'), '%m_%d_%Y'))\n",
    "            if (file[:8] == 'new_enr_'):\n",
    "                new_enr_files.append(datetime.strptime(file.strip('new_enr_').rstrip('.csv'), '%m_%d_%Y'))\n",
    "\n",
    "enr_update_file = f\"enr_update_{max(enr_up_files).strftime('%m_%d_%Y')}.csv\"\n",
    "enr_update = pd.read_csv(enr_update_file)\n",
    "\n",
    "new_enr_file = f\"new_enr_{max(new_enr_files).strftime('%m_%d_%Y')}.csv\"\n",
    "new_enr = pd.read_csv(new_enr_file)\n",
    "\n",
    "match_table = pd.read_csv('debugging_output/__match_table.csv')\n",
    "import_nsc = pd.read_csv('data/import_nsc_output.csv')\n",
    "import_nsc.dropna(axis = 0, subset = ['Enrollment Status'], inplace = True)"
   ]
  },
  {
   "cell_type": "code",
   "execution_count": 4,
   "metadata": {},
   "outputs": [],
   "source": [
    "columns = list(match_table.columns.copy()) + ['Enrollment Status']\n",
    "match_table = match_table.join(import_nsc[common_member(match_table.columns, import_nsc.columns) + ['Enrollment Status']], rsuffix = '_import')[columns]"
   ]
  },
  {
   "cell_type": "code",
   "execution_count": 5,
   "metadata": {},
   "outputs": [],
   "source": [
    "enr_update_columns = list(enr_update.columns.copy()) + ['Enrollment_Status__c']\n",
    "enr_update_status = enr_update.merge(match_table[['Id','Enrollment Status']], on = ['Id'], how = 'left')"
   ]
  },
  {
   "cell_type": "code",
   "execution_count": 7,
   "metadata": {},
   "outputs": [],
   "source": [
    "enr_update_status.columns = enr_update_columns"
   ]
  },
  {
   "cell_type": "code",
   "execution_count": 8,
   "metadata": {},
   "outputs": [],
   "source": [
    "enr_update_status.to_csv(f\"data/{'_enrollment_status.'.join(enr_update_file.split('.'))}\", index = False)"
   ]
  },
  {
   "cell_type": "code",
   "execution_count": 9,
   "metadata": {},
   "outputs": [],
   "source": [
    "new_enr_columns = list(new_enr.columns) + ['Enrollment_Status__c']\n",
    "new_enr_status = new_enr.merge(match_table[['Student__c','College__c','End_Date__c','Date_Last_Verified__c','Enrollment Status']] ,how='left')"
   ]
  },
  {
   "cell_type": "code",
   "execution_count": 10,
   "metadata": {},
   "outputs": [],
   "source": [
    "new_enr_status.columns = new_enr_columns"
   ]
  },
  {
   "cell_type": "code",
   "execution_count": 11,
   "metadata": {},
   "outputs": [],
   "source": [
    "new_enr_status.to_csv(f\"data/{'_enrollment_status.'.join(new_enr_file.split('.'))}\", index = False)"
   ]
  },
  {
   "cell_type": "code",
   "execution_count": null,
   "metadata": {},
   "outputs": [],
   "source": []
  }
 ]
}