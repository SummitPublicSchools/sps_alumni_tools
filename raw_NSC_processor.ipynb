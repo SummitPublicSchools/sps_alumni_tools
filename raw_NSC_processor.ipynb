{
 "cells": [
  {
   "cell_type": "code",
   "execution_count": null,
   "metadata": {},
   "outputs": [],
   "source": [
    "import os\n",
    "import shutil\n",
    "\n",
    "from zipfile import ZipFile\n",
    "\n",
    "from spswarehouse.warehouse import Warehouse\n",
    "from spswarehouse.googledrive import GoogleDrive"
   ]
  },
  {
   "cell_type": "markdown",
   "metadata": {},
   "source": [
    "# Setup\n",
    "\n",
    "It's easiest to move the two files from NSC into the same directory as this notebook."
   ]
  },
  {
   "cell_type": "code",
   "execution_count": null,
   "metadata": {},
   "outputs": [],
   "source": [
    "excel_file_path = '10055266hsst_10055266-152604-DETAIL-EFFDT-20220421-RUNDT-20220514.csv'\n",
    "zip_file_path = '10055266hsst_10055266_EFFDT_20220421_RUNDT_20220514184645761.zip'\n",
    "\n",
    "alumni_folder_id = '1Y3bSyRHwceFmsNYbo9vd59UXEtZHpj99'\n",
    "\n",
    "upload_date = '2022_05'"
   ]
  },
  {
   "cell_type": "code",
   "execution_count": null,
   "metadata": {},
   "outputs": [],
   "source": [
    "def UploadFileToDrive(filename, parent_folder_id):\n",
    "    upload_file = GoogleDrive.CreateFile({\n",
    "        'title': filename,\n",
    "        'parents': [{\"kind\": \"drive#fileLink\", \"id\": parent_folder_id}],\n",
    "    })\n",
    "    upload_file.SetContentFile(filename)\n",
    "    upload_file.Upload()\n",
    "    return upload_file"
   ]
  },
  {
   "cell_type": "markdown",
   "metadata": {},
   "source": [
    "## Extract all files from the zip folder"
   ]
  },
  {
   "cell_type": "code",
   "execution_count": null,
   "metadata": {},
   "outputs": [],
   "source": [
    "temp_dir = 'data'\n",
    "\n",
    "nsc_zip = ZipFile(zip_file_path)\n",
    "\n",
    "# Note: you can skip os.makedir because extractall creates the given path if it doesn't exist\n",
    "nsc_zip.extractall(temp_dir)\n",
    "\n",
    "nsc_zip.close()"
   ]
  },
  {
   "cell_type": "markdown",
   "metadata": {},
   "source": [
    "## Retrieve list of CEEB codes"
   ]
  },
  {
   "cell_type": "code",
   "execution_count": null,
   "metadata": {},
   "outputs": [],
   "source": [
    "ceeb_sql = \"\"\"\n",
    "SELECT DISTINCT\n",
    "    site_short_name\n",
    "    , ceeb_code\n",
    "FROM public.sites_historical\n",
    "\"\"\"\n",
    "\n",
    "sites_df = Warehouse.read_sql(ceeb_sql)"
   ]
  },
  {
   "cell_type": "markdown",
   "metadata": {},
   "source": [
    "## Create Drive folder for this upload, upload raw data files there"
   ]
  },
  {
   "cell_type": "code",
   "execution_count": null,
   "metadata": {},
   "outputs": [],
   "source": [
    "folder_name = upload_date + '_nsc_files'\n",
    "\n",
    "newFolder = GoogleDrive.CreateFile({\n",
    "    'title': folder_name,\n",
    "    \"parents\": [{\"kind\": \"drive#fileLink\", \"id\": alumni_folder_id}],\n",
    "    \"mimeType\": \"application/vnd.google-apps.folder\"\n",
    "})\n",
    "\n",
    "newFolder.Upload()"
   ]
  },
  {
   "cell_type": "code",
   "execution_count": null,
   "metadata": {},
   "outputs": [],
   "source": [
    "UploadFileToDrive(excel_file_path, newFolder['id'])\n",
    "UploadFileToDrive(zip_file_path, newFolder['id'])"
   ]
  },
  {
   "cell_type": "markdown",
   "metadata": {},
   "source": [
    "# Rename Files"
   ]
  },
  {
   "cell_type": "code",
   "execution_count": null,
   "metadata": {},
   "outputs": [],
   "source": [
    "os.chdir(temp_dir)"
   ]
  },
  {
   "cell_type": "code",
   "execution_count": null,
   "metadata": {},
   "outputs": [],
   "source": [
    "zip_file_list = os.listdir()\n",
    "for file_name in zip_file_list:\n",
    "    if 'ACADEMICS' in file_name:\n",
    "        os.remove(file_name)\n",
    "        continue\n",
    "\n",
    "    if file_name[22:24] == 'HS':\n",
    "        ceeb_code = file_name[24:30]\n",
    "        site_name = sites_df[sites_df['ceeb_code']==ceeb_code]['site_short_name'].iloc[0]\n",
    "        os.rename(file_name, site_name + file_name[37:])\n",
    "    else:\n",
    "        os.rename(file_name, 'Network' + file_name[37:])"
   ]
  },
  {
   "cell_type": "markdown",
   "metadata": {},
   "source": [
    "# Upload renamed files to drive"
   ]
  },
  {
   "cell_type": "code",
   "execution_count": null,
   "metadata": {},
   "outputs": [],
   "source": [
    "folder_name = upload_date + '_nsc_files'\n",
    "\n",
    "newFolder = GoogleDrive.CreateFile({\n",
    "    'title': folder_name,\n",
    "    \"parents\": [{\"kind\": \"drive#fileLink\", \"id\": alumni_folder_id}],\n",
    "    \"mimeType\": \"application/vnd.google-apps.folder\"\n",
    "})\n",
    "\n",
    "newFolder.Upload()"
   ]
  },
  {
   "cell_type": "code",
   "execution_count": null,
   "metadata": {},
   "outputs": [],
   "source": [
    "# upload re-named files\n",
    "upload_file_list = os.listdir()\n",
    "for file_name in upload_file_list:\n",
    "    file_upload = UploadFileToDrive(file_name, newFolder['id'])\n",
    "    "
   ]
  },
  {
   "cell_type": "markdown",
   "metadata": {},
   "source": [
    "# Cleanup"
   ]
  },
  {
   "cell_type": "code",
   "execution_count": null,
   "metadata": {},
   "outputs": [],
   "source": [
    "# This might not work - I can't seem to close the connection to the last file uploaded\n",
    "\n",
    "shutil.rmtree(temp_dir)"
   ]
  },
  {
   "cell_type": "code",
   "execution_count": null,
   "metadata": {},
   "outputs": [],
   "source": []
  }
 ],
 "metadata": {
  "kernelspec": {
   "display_name": "Python 3",
   "language": "python",
   "name": "python3"
  },
  "language_info": {
   "codemirror_mode": {
    "name": "ipython",
    "version": 3
   },
   "file_extension": ".py",
   "mimetype": "text/x-python",
   "name": "python",
   "nbconvert_exporter": "python",
   "pygments_lexer": "ipython3",
   "version": "3.8.5"
  }
 },
 "nbformat": 4,
 "nbformat_minor": 4
}
